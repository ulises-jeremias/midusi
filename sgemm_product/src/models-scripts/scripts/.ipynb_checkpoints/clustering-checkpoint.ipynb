{
 "cells": [
  {
   "cell_type": "code",
   "execution_count": 1,
   "metadata": {},
   "outputs": [],
   "source": [
    "from time import time\n",
    "import numpy as np # linear algebra\n",
    "import pandas as pd # data processing, CSV file I/O (e.g. pd.read_csv)\n",
    "\n",
    "from sklearn import metrics\n",
    "from sklearn.cluster import KMeans"
   ]
  },
  {
   "cell_type": "code",
   "execution_count": 2,
   "metadata": {},
   "outputs": [],
   "source": [
    "data = pd.read_csv('../../../data/filtered_sgemm_product.csv')\n",
    "data = data.drop(data.columns[[12,13]], axis=1)\n",
    "\n",
    "# guarda que tarda si se prueba con todo\n",
    "sample_size = 300"
   ]
  },
  {
   "cell_type": "code",
   "execution_count": 5,
   "metadata": {
    "scrolled": true
   },
   "outputs": [
    {
     "name": "stdout",
     "output_type": "stream",
     "text": [
      "centroids\ttime\tsilhouette\n",
      "----------------------------------------------------------------------------------\n",
      "2        \t0.10s\t0.768\n",
      "3        \t1.51s\t0.782\n",
      "4        \t0.09s\t0.795\n",
      "5        \t0.09s\t0.770\n",
      "6        \t0.11s\t0.780\n",
      "7        \t0.15s\t0.636\n",
      "8        \t0.15s\t0.636\n",
      "9        \t0.19s\t0.632\n"
     ]
    }
   ],
   "source": [
    "print('centroids\\ttime\\tsilhouette')\n",
    "print(82 * '-')\n",
    "\n",
    "def bench_k_means(estimator, name, data):\n",
    "    t0 = time()\n",
    "    estimator.fit(data)\n",
    "    print('%-9s\\t%.2fs\\t%.3f'\n",
    "          % (name, (time() - t0), \n",
    "             metrics.silhouette_score(data, estimator.labels_,\n",
    "                                      metric='euclidean',\n",
    "                                      sample_size=sample_size)))\n",
    "   \n",
    "for i in range(2,10):\n",
    "    bench_k_means(KMeans(init='k-means++', n_clusters=i, n_init=10), name=(\"%i\" % i), data=data)"
   ]
  },
  {
   "cell_type": "code",
   "execution_count": 4,
   "metadata": {},
   "outputs": [
    {
     "name": "stdout",
     "output_type": "stream",
     "text": [
      "cluster\tattribute\tcentroid\n",
      "----------------------------------------------------------------------------------\n",
      "0\tMWG      \t91.751\n",
      "0\tNWG      \t91.751\n",
      "0\tKWG      \t26.460\n",
      "0\tMDIMC    \t16.504\n",
      "0\tNDIMC    \t16.521\n",
      "0\tMDIMA    \t18.981\n",
      "0\tNDIMB    \t18.981\n",
      "0\tKWI      \t4.994\n",
      "0\tVWM      \t2.592\n",
      "0\tVWN      \t2.592\n",
      "0\tSTRM     \t0.500\n",
      "0\tSTRN     \t0.499\n",
      "0\tRun      \t96.831\n",
      "----------------------------------------------------------------------------------\n",
      "1\tMWG      \t128.000\n",
      "1\tNWG      \t128.000\n",
      "1\tKWG      \t21.831\n",
      "1\tMDIMC    \t8.000\n",
      "1\tNDIMC    \t8.000\n",
      "1\tMDIMA    \t17.422\n",
      "1\tNDIMB    \t17.765\n",
      "1\tKWI      \t4.187\n",
      "1\tVWM      \t3.413\n",
      "1\tVWN      \t3.108\n",
      "1\tSTRM     \t0.512\n",
      "1\tSTRN     \t0.514\n",
      "1\tRun      \t2107.844\n",
      "----------------------------------------------------------------------------------\n",
      "2\tMWG      \t128.000\n",
      "2\tNWG      \t128.000\n",
      "2\tKWG      \t23.795\n",
      "2\tMDIMC    \t11.897\n",
      "2\tNDIMC    \t11.853\n",
      "2\tMDIMA    \t17.453\n",
      "2\tNDIMB    \t17.341\n",
      "2\tKWI      \t4.923\n",
      "2\tVWM      \t3.360\n",
      "2\tVWN      \t3.461\n",
      "2\tSTRM     \t0.497\n",
      "2\tSTRN     \t0.498\n",
      "2\tRun      \t889.664\n",
      "----------------------------------------------------------------------------------\n",
      "3\tMWG      \t128.000\n",
      "3\tNWG      \t128.000\n",
      "3\tKWG      \t32.000\n",
      "3\tMDIMC    \t8.000\n",
      "3\tNDIMC    \t8.000\n",
      "3\tMDIMA    \t17.455\n",
      "3\tNDIMB    \t17.455\n",
      "3\tKWI      \t8.000\n",
      "3\tVWM      \t3.364\n",
      "3\tVWN      \t3.364\n",
      "3\tSTRM     \t0.500\n",
      "3\tSTRN     \t0.500\n",
      "3\tRun      \t3141.417\n",
      "----------------------------------------------------------------------------------\n"
     ]
    }
   ],
   "source": [
    "print('cluster\\tattribute\\tcentroid')\n",
    "print(82 * '-')\n",
    "\n",
    "def print_centroids(estimator, data):\n",
    "    kmeans = estimator.fit(data)\n",
    "    cluster_centers = kmeans.cluster_centers_\n",
    "    attributes = data.columns.values\n",
    "    for cluster in range(len(cluster_centers)):\n",
    "        for attribute in range(len(data.columns)):\n",
    "            print('%i\\t%-9s\\t%.3f'\n",
    "                  % (cluster, data.columns.values[attribute], cluster_centers[cluster, attribute]))\n",
    "        print(82 * '-')\n",
    "\n",
    "print_centroids(KMeans(init='k-means++', n_clusters=4, n_init=10), data)"
   ]
  }
 ],
 "metadata": {
  "kernelspec": {
   "display_name": "Python 3",
   "language": "python",
   "name": "python3"
  },
  "language_info": {
   "codemirror_mode": {
    "name": "ipython",
    "version": 3
   },
   "file_extension": ".py",
   "mimetype": "text/x-python",
   "name": "python",
   "nbconvert_exporter": "python",
   "pygments_lexer": "ipython3",
   "version": "3.6.5"
  }
 },
 "nbformat": 4,
 "nbformat_minor": 2
}
