{
 "cells": [
  {
   "cell_type": "code",
   "execution_count": 1,
   "metadata": {},
   "outputs": [
    {
     "ename": "ModuleNotFoundError",
     "evalue": "No module named 'numpy'",
     "output_type": "error",
     "traceback": [
      "\u001b[0;31m---------------------------------------------------------------------------\u001b[0m",
      "\u001b[0;31mModuleNotFoundError\u001b[0m                       Traceback (most recent call last)",
      "\u001b[0;32m<ipython-input-1-3b77450f4591>\u001b[0m in \u001b[0;36m<module>\u001b[0;34m()\u001b[0m\n\u001b[1;32m      1\u001b[0m \u001b[0;32mfrom\u001b[0m \u001b[0mtime\u001b[0m \u001b[0;32mimport\u001b[0m \u001b[0mtime\u001b[0m\u001b[0;34m\u001b[0m\u001b[0m\n\u001b[0;32m----> 2\u001b[0;31m \u001b[0;32mimport\u001b[0m \u001b[0mnumpy\u001b[0m \u001b[0;32mas\u001b[0m \u001b[0mnp\u001b[0m \u001b[0;31m# linear algebra\u001b[0m\u001b[0;34m\u001b[0m\u001b[0m\n\u001b[0m\u001b[1;32m      3\u001b[0m \u001b[0;32mimport\u001b[0m \u001b[0mpandas\u001b[0m \u001b[0;32mas\u001b[0m \u001b[0mpd\u001b[0m \u001b[0;31m# data processing, CSV file I/O (e.g. pd.read_csv)\u001b[0m\u001b[0;34m\u001b[0m\u001b[0m\n\u001b[1;32m      4\u001b[0m \u001b[0;34m\u001b[0m\u001b[0m\n\u001b[1;32m      5\u001b[0m \u001b[0;32mfrom\u001b[0m \u001b[0msklearn\u001b[0m \u001b[0;32mimport\u001b[0m \u001b[0mmetrics\u001b[0m\u001b[0;34m\u001b[0m\u001b[0m\n",
      "\u001b[0;31mModuleNotFoundError\u001b[0m: No module named 'numpy'"
     ]
    }
   ],
   "source": [
    "from time import time\n",
    "import numpy as np # linear algebra\n",
    "import pandas as pd # data processing, CSV file I/O (e.g. pd.read_csv)\n",
    "\n",
    "from sklearn import metrics\n",
    "from sklearn.cluster import KMeans"
   ]
  },
  {
   "cell_type": "code",
   "execution_count": null,
   "metadata": {},
   "outputs": [],
   "source": [
    "data = pd.read_csv('../../../data/filtered_sgemm_product.csv')\n",
    "\n",
    "# guarda que tarda si se prueba con todo\n",
    "sample_size = 1000"
   ]
  },
  {
   "cell_type": "code",
<<<<<<< HEAD
   "execution_count": null,
   "metadata": {
    "scrolled": true
   },
   "outputs": [],
=======
   "execution_count": 3,
   "metadata": {
    "scrolled": true
   },
   "outputs": [
    {
     "name": "stdout",
     "output_type": "stream",
     "text": [
      "centroids\ttime\tsilhouette\n",
      "----------------------------------------------------------------------------------\n",
      "2        \t1.61s\t0.778\n",
      "3        \t1.38s\t0.733\n",
      "4        \t2.59s\t0.582\n",
      "5        \t3.02s\t0.523\n",
      "6        \t2.95s\t0.528\n",
      "7        \t3.66s\t0.527\n",
      "8        \t3.07s\t0.398\n",
      "9        \t3.82s\t0.384\n"
     ]
    }
   ],
>>>>>>> 1bf4b5b75c92661499ca9430ac3950e24658a7a2
   "source": [
    "print('centroids\\ttime\\tsilhouette')\n",
    "print(82 * '-')\n",
    "\n",
    "def bench_k_means(estimator, name, data):\n",
    "    t0 = time()\n",
    "    estimator.fit(data)\n",
    "    print('%-9s\\t%.2fs\\t%.3f'\n",
    "          % (name, (time() - t0), \n",
    "             metrics.silhouette_score(data, estimator.labels_,\n",
    "                                      metric='euclidean',\n",
    "                                      sample_size=sample_size)))\n",
    "   \n",
    "for i in range(2,10):\n",
    "    bench_k_means(KMeans(init='k-means++', n_clusters=i, n_init=10), name=(\"%i\" % i), data=data)"
   ]
  },
  {
   "cell_type": "code",
   "execution_count": null,
   "metadata": {},
<<<<<<< HEAD
   "outputs": [],
=======
   "outputs": [
    {
     "name": "stdout",
     "output_type": "stream",
     "text": [
      "cluster\tattribute\tcentroid\n",
      "----------------------------------------------------------------------------------\n",
      "0\tMWG      \t77.461\n",
      "0\tNWG      \t77.434\n",
      "0\tKWG      \t25.436\n",
      "0\tMDIMC    \t14.294\n",
      "0\tNDIMC    \t14.316\n",
      "0\tMDIMA    \t17.385\n",
      "0\tNDIMB    \t17.380\n",
      "0\tKWI      \t4.955\n",
      "0\tVWM      \t2.382\n",
      "0\tVWN      \t2.387\n",
      "0\tSTRM     \t0.500\n",
      "0\tSTRN     \t0.500\n",
      "0\tSA       \t0.482\n",
      "0\tSB       \t0.482\n",
      "0\tRun      \t132.744\n",
      "----------------------------------------------------------------------------------\n",
      "1\tMWG      \t116.933\n",
      "1\tNWG      \t117.270\n",
      "1\tKWG      \t26.462\n",
      "1\tMDIMC    \t9.514\n",
      "1\tNDIMC    \t9.236\n",
      "1\tMDIMA    \t17.203\n",
      "1\tNDIMB    \t17.266\n",
      "1\tKWI      \t5.562\n",
      "1\tVWM      \t3.268\n",
      "1\tVWN      \t3.212\n",
      "1\tSTRM     \t0.502\n",
      "1\tSTRN     \t0.505\n",
      "1\tSA       \t0.724\n",
      "1\tSB       \t0.720\n",
      "1\tRun      \t1266.037\n",
      "----------------------------------------------------------------------------------\n"
     ]
    }
   ],
>>>>>>> 1bf4b5b75c92661499ca9430ac3950e24658a7a2
   "source": [
    "print('cluster\\tattribute\\tcentroid')\n",
    "print(82 * '-')\n",
    "\n",
    "def print_centroids(estimator, data):\n",
    "    kmeans = estimator.fit(data)\n",
    "    cluster_centers = kmeans.cluster_centers_\n",
    "    attributes = data.columns.values\n",
    "    for cluster in range(len(cluster_centers)):\n",
    "        for attribute in range(len(data.columns)):\n",
    "            print('%i\\t%-9s\\t%.3f'\n",
    "                  % (cluster, data.columns.values[attribute], cluster_centers[cluster, attribute]))\n",
    "        print(82 * '-')\n",
    "\n",
    "print_centroids(KMeans(init='k-means++', n_clusters=2, n_init=10), data)"
   ]
  }
 ],
 "metadata": {
  "kernelspec": {
   "display_name": "Python 3",
   "language": "python",
   "name": "python3"
  },
  "language_info": {
   "codemirror_mode": {
    "name": "ipython",
    "version": 3
   },
   "file_extension": ".py",
   "mimetype": "text/x-python",
   "name": "python",
   "nbconvert_exporter": "python",
   "pygments_lexer": "ipython3",
   "version": "3.6.6"
  }
 },
 "nbformat": 4,
 "nbformat_minor": 2
}
