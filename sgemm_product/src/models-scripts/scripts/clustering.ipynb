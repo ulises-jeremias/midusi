{
 "cells": [
  {
   "cell_type": "code",
   "execution_count": 1,
   "metadata": {},
   "outputs": [],
   "source": [
    "from time import time\n",
    "import numpy as np # linear algebra\n",
    "import pandas as pd # data processing, CSV file I/O (e.g. pd.read_csv)\n",
    "\n",
    "from sklearn import metrics\n",
    "from sklearn.cluster import KMeans"
   ]
  },
  {
   "cell_type": "code",
   "execution_count": 2,
   "metadata": {},
   "outputs": [],
   "source": [
    "data = pd.read_csv('../../../data/filtered_sgemm_product.csv')\n",
    "\n",
    "# guarda que tarda si se prueba con todo\n",
    "sample_size = 300"
   ]
  },
  {
   "cell_type": "code",
   "execution_count": 3,
   "metadata": {
    "scrolled": true
   },
   "outputs": [
    {
     "name": "stdout",
     "output_type": "stream",
     "text": [
      "centroids\ttime\tsilhouette\n",
      "----------------------------------------------------------------------------------\n",
      "2        \t1.60s\t0.824\n",
      "3        \t1.42s\t0.749\n",
      "4        \t3.19s\t0.587\n",
      "5        \t3.26s\t0.512\n",
      "6        \t2.43s\t0.503\n",
      "7        \t3.01s\t0.538\n",
      "8        \t3.33s\t0.380\n",
      "9        \t3.43s\t0.396\n"
     ]
    }
   ],
   "source": [
    "print('centroids\\ttime\\tsilhouette')\n",
    "print(82 * '-')\n",
    "\n",
    "def bench_k_means(estimator, name, data):\n",
    "    t0 = time()\n",
    "    estimator.fit(data)\n",
    "    print('%-9s\\t%.2fs\\t%.3f'\n",
    "          % (name, (time() - t0), \n",
    "             metrics.silhouette_score(data, estimator.labels_,\n",
    "                                      metric='euclidean',\n",
    "                                      sample_size=sample_size)))\n",
    "   \n",
    "for i in range(2,10):\n",
    "    bench_k_means(KMeans(init='k-means++', n_clusters=i, n_init=10), name=(\"%i\" % i), data=data)"
   ]
  },
  {
   "cell_type": "code",
   "execution_count": 5,
   "metadata": {},
   "outputs": [
    {
     "name": "stdout",
     "output_type": "stream",
     "text": [
      "cluster\tattribute\tcentroid\n",
      "----------------------------------------------------------------------------------\n",
      "0\tMWG      \t77.454\n",
      "0\tNWG      \t77.428\n",
      "0\tKWG      \t25.436\n",
      "0\tMDIMC    \t14.294\n",
      "0\tNDIMC    \t14.316\n",
      "0\tMDIMA    \t17.385\n",
      "0\tNDIMB    \t17.380\n",
      "0\tKWI      \t4.955\n",
      "0\tVWM      \t2.382\n",
      "0\tVWN      \t2.387\n",
      "0\tSTRM     \t0.500\n",
      "0\tSTRN     \t0.500\n",
      "0\tSA       \t0.482\n",
      "0\tSB       \t0.482\n",
      "0\tRun      \t132.668\n",
      "----------------------------------------------------------------------------------\n",
      "1\tMWG      \t116.948\n",
      "1\tNWG      \t117.277\n",
      "1\tKWG      \t26.465\n",
      "1\tMDIMC    \t9.517\n",
      "1\tNDIMC    \t9.241\n",
      "1\tMDIMA    \t17.201\n",
      "1\tNDIMB    \t17.265\n",
      "1\tKWI      \t5.556\n",
      "1\tVWM      \t3.266\n",
      "1\tVWN      \t3.211\n",
      "1\tSTRM     \t0.502\n",
      "1\tSTRN     \t0.505\n",
      "1\tSA       \t0.723\n",
      "1\tSB       \t0.720\n",
      "1\tRun      \t1265.095\n",
      "----------------------------------------------------------------------------------\n"
     ]
    }
   ],
   "source": [
    "print('cluster\\tattribute\\tcentroid')\n",
    "print(82 * '-')\n",
    "\n",
    "def print_centroids(estimator, data):\n",
    "    kmeans = estimator.fit(data)\n",
    "    cluster_centers = kmeans.cluster_centers_\n",
    "    attributes = data.columns.values\n",
    "    for cluster in range(len(cluster_centers)):\n",
    "        for attribute in range(len(data.columns)):\n",
    "            print('%i\\t%-9s\\t%.3f'\n",
    "                  % (cluster, data.columns.values[attribute], cluster_centers[cluster, attribute]))\n",
    "        print(82 * '-')\n",
    "\n",
    "print_centroids(KMeans(init='k-means++', n_clusters=2, n_init=10), data)"
   ]
  }
 ],
 "metadata": {
  "kernelspec": {
   "display_name": "Python 3",
   "language": "python",
   "name": "python3"
  },
  "language_info": {
   "codemirror_mode": {
    "name": "ipython",
    "version": 3
   },
   "file_extension": ".py",
   "mimetype": "text/x-python",
   "name": "python",
   "nbconvert_exporter": "python",
   "pygments_lexer": "ipython3",
   "version": "3.6.5"
  }
 },
 "nbformat": 4,
 "nbformat_minor": 2
}
