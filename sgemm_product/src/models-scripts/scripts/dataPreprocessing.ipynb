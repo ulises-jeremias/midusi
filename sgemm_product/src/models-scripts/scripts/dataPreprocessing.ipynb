{
 "cells": [
  {
   "cell_type": "code",
   "execution_count": 1,
   "metadata": {},
   "outputs": [],
   "source": [
    "import numpy as np # linear algebra\n",
    "import pandas as pd # data processing, CSV file I/O (e.g. pd.read_csv)\n",
    "from sklearn import preprocessing\n",
    "from sklearn.externals import joblib"
   ]
  },
  {
   "cell_type": "code",
   "execution_count": 2,
   "metadata": {},
   "outputs": [],
   "source": [
    "dataframe = pd.read_csv('../../../data/filtered_sgemm_product.csv')\n",
    "\n",
    "# Dimensions of dataset\n",
    "n = dataframe.shape[0]\n",
    "\n",
    "data = dataframe.values\n",
    "np.random.shuffle(data)\n",
    "\n",
    "# Training and test data\n",
    "train_start = 0\n",
    "train_end = int(np.floor(0.8*n))\n",
    "test_start = train_end\n",
    "test_end = n\n",
    "data_train = data[np.arange(train_start, train_end), :]\n",
    "data_test = data[np.arange(test_start, test_end), :]\n",
    "\n",
    "# Preprocesing data\n",
    "scaler_filename = \"../models/scaler.save\"\n",
    "scaler = preprocessing.StandardScaler().fit(data_train)\n",
    "joblib.dump(scaler, scaler_filename)\n",
    "data_train = scaler.transform(data_train)\n",
    "data_test = scaler.transform(data_test)\n",
    "\n",
    "pd.DataFrame(data_train, columns=dataframe.columns.values).to_csv(\"../../../data/train_data.csv\", encoding='utf-8', index=False)\n",
    "pd.DataFrame(data_test, columns=dataframe.columns.values).to_csv(\"../../../data/test_data.csv\", encoding='utf-8', index=False)"
   ]
  }
 ],
 "metadata": {
  "kernelspec": {
   "display_name": "Python 3",
   "language": "python",
   "name": "python3"
  },
  "language_info": {
   "codemirror_mode": {
    "name": "ipython",
    "version": 3
   },
   "file_extension": ".py",
   "mimetype": "text/x-python",
   "name": "python",
   "nbconvert_exporter": "python",
   "pygments_lexer": "ipython3",
   "version": "3.6.5"
  }
 },
 "nbformat": 4,
 "nbformat_minor": 2
}
